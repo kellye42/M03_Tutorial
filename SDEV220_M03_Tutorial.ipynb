{
 "cells": [
  {
   "cell_type": "code",
   "execution_count": 1,
   "id": "258e06aa",
   "metadata": {},
   "outputs": [],
   "source": [
    "def vol(rad):\n",
    "    volume = (4/3)*3.14*rad**3\n",
    "    return volume"
   ]
  },
  {
   "cell_type": "code",
   "execution_count": 2,
   "id": "b1f0da3a",
   "metadata": {},
   "outputs": [
    {
     "data": {
      "text/plain": [
       "33.49333333333333"
      ]
     },
     "execution_count": 2,
     "metadata": {},
     "output_type": "execute_result"
    }
   ],
   "source": [
    "vol(2)"
   ]
  },
  {
   "cell_type": "code",
   "execution_count": 3,
   "id": "e3be7b11",
   "metadata": {},
   "outputs": [],
   "source": [
    "def ran_check(num, low, high):\n",
    "    if (num >= low) and (num <= high):\n",
    "        print(f\"{num} is in the range between {low} and {high}\")\n",
    "    else:\n",
    "        print(f\"{num} is not in the range between {low} and {high}\")"
   ]
  },
  {
   "cell_type": "code",
   "execution_count": 4,
   "id": "0ffdbd52",
   "metadata": {},
   "outputs": [
    {
     "name": "stdout",
     "output_type": "stream",
     "text": [
      "5 is in the range between 2 and 7\n"
     ]
    }
   ],
   "source": [
    "ran_check(5,2,7)"
   ]
  },
  {
   "cell_type": "code",
   "execution_count": 5,
   "id": "eb855f82",
   "metadata": {},
   "outputs": [],
   "source": [
    "def up_low(s):\n",
    "    lower = 0\n",
    "    upper = 0\n",
    "    for index in s:\n",
    "        if index.isupper():\n",
    "            upper += 1\n",
    "        elif index.islower():\n",
    "            lower += 1\n",
    "    print(f\"Original string : {s}\\\n",
    "    \\nNo. of Upper case characters : {upper} \\nNo. of Lower case characters : {lower}\")"
   ]
  },
  {
   "cell_type": "code",
   "execution_count": 6,
   "id": "2f078da2",
   "metadata": {},
   "outputs": [
    {
     "name": "stdout",
     "output_type": "stream",
     "text": [
      "Original string : Hello, Mr. Rogers, how are you this fine Tuesday?    \n",
      "No. of Upper case characters : 4 \n",
      "No. of Lower case characters : 33\n"
     ]
    }
   ],
   "source": [
    "s = \"Hello, Mr. Rogers, how are you this fine Tuesday?\"\n",
    "up_low(s)"
   ]
  },
  {
   "cell_type": "code",
   "execution_count": 7,
   "id": "e288968a",
   "metadata": {},
   "outputs": [],
   "source": [
    "def unique_list(lst):\n",
    "    unique = []\n",
    "    for item in lst:\n",
    "        if item not in unique:\n",
    "            unique.append(item)\n",
    "    print(unique)"
   ]
  },
  {
   "cell_type": "code",
   "execution_count": 8,
   "id": "97de336b",
   "metadata": {},
   "outputs": [
    {
     "name": "stdout",
     "output_type": "stream",
     "text": [
      "[1, 2, 3, 4, 5]\n"
     ]
    }
   ],
   "source": [
    "unique_list([1,1,1,1,2,2,3,3,3,3,4,5])"
   ]
  },
  {
   "cell_type": "code",
   "execution_count": 9,
   "id": "ec6b5d0d",
   "metadata": {},
   "outputs": [],
   "source": [
    "def multiply(nums):\n",
    "    product = 1\n",
    "    for num in nums:\n",
    "        product *= num\n",
    "    print(product)"
   ]
  },
  {
   "cell_type": "code",
   "execution_count": 10,
   "id": "30116a94",
   "metadata": {},
   "outputs": [
    {
     "name": "stdout",
     "output_type": "stream",
     "text": [
      "-24\n"
     ]
    }
   ],
   "source": [
    "multiply([1,2,3,-4])"
   ]
  },
  {
   "cell_type": "code",
   "execution_count": 11,
   "id": "3641a7a7",
   "metadata": {},
   "outputs": [],
   "source": [
    "def palindrome(string):\n",
    "    string = string.replace(\" \",\"\")\n",
    "    orig = string\n",
    "    back = string[::-1]\n",
    "    return orig == back\n",
    "        "
   ]
  },
  {
   "cell_type": "code",
   "execution_count": 12,
   "id": "360a67c0",
   "metadata": {},
   "outputs": [
    {
     "data": {
      "text/plain": [
       "True"
      ]
     },
     "execution_count": 12,
     "metadata": {},
     "output_type": "execute_result"
    }
   ],
   "source": [
    "palindrome('helleh')"
   ]
  },
  {
   "cell_type": "code",
   "execution_count": 13,
   "id": "5ff6a158",
   "metadata": {},
   "outputs": [],
   "source": [
    "import string\n",
    "def ispangram(str1, alphabet=string.ascii_lowercase):\n",
    "    alpha = set(alphabet)\n",
    "    str1 = str1.replace(\" \",\"\")\n",
    "    str1 = str1.lower()\n",
    "    str1 = set(str1)\n",
    "    return alpha == str1"
   ]
  },
  {
   "cell_type": "code",
   "execution_count": 14,
   "id": "341578a7",
   "metadata": {},
   "outputs": [
    {
     "data": {
      "text/plain": [
       "True"
      ]
     },
     "execution_count": 14,
     "metadata": {},
     "output_type": "execute_result"
    }
   ],
   "source": [
    "ispangram(\"The quick brown fox jumps over the lazy dog\")"
   ]
  },
  {
   "cell_type": "code",
   "execution_count": 15,
   "id": "34d897e6",
   "metadata": {},
   "outputs": [],
   "source": [
    "#Below is the OOP Homework work"
   ]
  },
  {
   "cell_type": "code",
   "execution_count": 16,
   "id": "1a70e4e6",
   "metadata": {},
   "outputs": [],
   "source": [
    "class Line:\n",
    "    \n",
    "    def __init__(self,coord1,coord2):\n",
    "        self.coord1 = coord1\n",
    "        self.coord2 = coord2\n",
    "    \n",
    "    def distance(self):\n",
    "        x1,y1 = self.coord1\n",
    "        x2,y2 = self.coord2\n",
    "        return ((x2-x1)**2 + (y2-y1)**2)**.5\n",
    "    \n",
    "    def slope(self):\n",
    "        x1,y1 = self.coord1\n",
    "        x2,y2 = self.coord2\n",
    "        return (y2-y1)/(x2-x1)"
   ]
  },
  {
   "cell_type": "code",
   "execution_count": 17,
   "id": "79ed522a",
   "metadata": {},
   "outputs": [
    {
     "name": "stdout",
     "output_type": "stream",
     "text": [
      "9.433981132056603\n",
      "1.6\n"
     ]
    }
   ],
   "source": [
    "coordinate1 = (3,2)\n",
    "coordinate2 = (8,10)\n",
    "li = Line(coordinate1,coordinate2)\n",
    "print(li.distance())\n",
    "print(li.slope())"
   ]
  },
  {
   "cell_type": "code",
   "execution_count": 18,
   "id": "ece20326",
   "metadata": {},
   "outputs": [],
   "source": [
    "class Cylinder:\n",
    "    \n",
    "    def __init__(self, height=1, radius=1):\n",
    "        self.height = height\n",
    "        self.radius = radius\n",
    "    \n",
    "    def volume(self):\n",
    "        radius = self.radius\n",
    "        height = self.height\n",
    "        return (3.14*radius**2*height)\n",
    "    \n",
    "    def surface_area(self):\n",
    "        radius = self.radius\n",
    "        height = self.height\n",
    "        return (2 * 3.14 * radius**2) + (2 * 3.14 * radius * height)\n",
    "    "
   ]
  },
  {
   "cell_type": "code",
   "execution_count": 19,
   "id": "f2301730",
   "metadata": {},
   "outputs": [
    {
     "name": "stdout",
     "output_type": "stream",
     "text": [
      "56.52\n",
      "94.2\n"
     ]
    }
   ],
   "source": [
    "c = Cylinder(2,3)\n",
    "print(c.volume())\n",
    "print(c.surface_area())"
   ]
  }
 ],
 "metadata": {
  "kernelspec": {
   "display_name": "Python 3 (ipykernel)",
   "language": "python",
   "name": "python3"
  },
  "language_info": {
   "codemirror_mode": {
    "name": "ipython",
    "version": 3
   },
   "file_extension": ".py",
   "mimetype": "text/x-python",
   "name": "python",
   "nbconvert_exporter": "python",
   "pygments_lexer": "ipython3",
   "version": "3.9.13"
  }
 },
 "nbformat": 4,
 "nbformat_minor": 5
}
